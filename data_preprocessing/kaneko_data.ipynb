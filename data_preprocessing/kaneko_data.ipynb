{
 "cells": [
  {
   "cell_type": "code",
   "execution_count": 2,
   "metadata": {},
   "outputs": [],
   "source": [
    "import pandas as pd\n",
    "import json"
   ]
  },
  {
   "cell_type": "code",
   "execution_count": 9,
   "metadata": {},
   "outputs": [],
   "source": [
    "conl_2013 = []\n",
    "conl_2014 = []\n",
    "nucle = []\n",
    "conl_2014_b = []\n",
    "\n",
    "with open('../data/kaneko_data/conll2013.json', 'r') as f:\n",
    "    conl_2013 = json.load(f)\n",
    "\n",
    "with open('../data/kaneko_data/conll2014a.json', 'r') as f:\n",
    "    conl_2014 = json.load(f)\n",
    "\n",
    "with open('../data/kaneko_data/nucle.json', 'r') as f:\n",
    "    nucle = json.load(f) \n",
    "\n",
    "with open('../data/kaneko_data/conll2014b.json', 'r') as f:\n",
    "    conl_2014_b = json.load(f)\n"
   ]
  },
  {
   "cell_type": "code",
   "execution_count": 10,
   "metadata": {},
   "outputs": [
    {
     "data": {
      "text/plain": [
       "(96, 581, 581, 180)"
      ]
     },
     "execution_count": 10,
     "metadata": {},
     "output_type": "execute_result"
    }
   ],
   "source": [
    "len(conl_2013), len(conl_2014), len(conl_2014_b), len(nucle)"
   ]
  },
  {
   "cell_type": "code",
   "execution_count": 11,
   "metadata": {},
   "outputs": [
    {
     "data": {
      "text/plain": [
       "1438"
      ]
     },
     "execution_count": 11,
     "metadata": {},
     "output_type": "execute_result"
    }
   ],
   "source": [
    "len(conl_2013)+ len(conl_2014) + len(conl_2014_b) + len(nucle)\n"
   ]
  },
  {
   "cell_type": "code",
   "execution_count": 12,
   "metadata": {},
   "outputs": [],
   "source": [
    "compined = conl_2013 + conl_2014 + conl_2014_b + nucle"
   ]
  },
  {
   "cell_type": "code",
   "execution_count": 13,
   "metadata": {},
   "outputs": [
    {
     "data": {
      "text/plain": [
       "1438"
      ]
     },
     "execution_count": 13,
     "metadata": {},
     "output_type": "execute_result"
    }
   ],
   "source": [
    "len(compined)"
   ]
  },
  {
   "cell_type": "code",
   "execution_count": 14,
   "metadata": {},
   "outputs": [],
   "source": [
    "df = pd.DataFrame(compined)"
   ]
  },
  {
   "cell_type": "code",
   "execution_count": 15,
   "metadata": {},
   "outputs": [
    {
     "data": {
      "text/html": [
       "<div>\n",
       "<style scoped>\n",
       "    .dataframe tbody tr th:only-of-type {\n",
       "        vertical-align: middle;\n",
       "    }\n",
       "\n",
       "    .dataframe tbody tr th {\n",
       "        vertical-align: top;\n",
       "    }\n",
       "\n",
       "    .dataframe thead th {\n",
       "        text-align: right;\n",
       "    }\n",
       "</style>\n",
       "<table border=\"1\" class=\"dataframe\">\n",
       "  <thead>\n",
       "    <tr style=\"text-align: right;\">\n",
       "      <th></th>\n",
       "      <th>corrections</th>\n",
       "      <th>id</th>\n",
       "      <th>incorrect sentence</th>\n",
       "      <th>correct sentence</th>\n",
       "    </tr>\n",
       "  </thead>\n",
       "  <tbody>\n",
       "    <tr>\n",
       "      <th>0</th>\n",
       "      <td>[{'start': 1, 'end': 1, 'error': '-', 'correct...</td>\n",
       "      <td>4</td>\n",
       "      <td>In modern digital world , electronic products ...</td>\n",
       "      <td>In the modern digital world , electronic produ...</td>\n",
       "    </tr>\n",
       "    <tr>\n",
       "      <th>1</th>\n",
       "      <td>[{'start': 1, 'end': 2, 'error': 'work', 'corr...</td>\n",
       "      <td>11</td>\n",
       "      <td>In work places , electronic devices such as co...</td>\n",
       "      <td>In the workplace electronic devices , such as ...</td>\n",
       "    </tr>\n",
       "    <tr>\n",
       "      <th>2</th>\n",
       "      <td>[{'start': 9, 'end': 11, 'error': 'is being', ...</td>\n",
       "      <td>14</td>\n",
       "      <td>The convenience and high efficiency of using e...</td>\n",
       "      <td>The convenience and high efficiency of using e...</td>\n",
       "    </tr>\n",
       "    <tr>\n",
       "      <th>3</th>\n",
       "      <td>[{'start': 2, 'end': 2, 'error': '-', 'correct...</td>\n",
       "      <td>20</td>\n",
       "      <td>Some people started to think if electronic pro...</td>\n",
       "      <td>Some people have started to wonder if electron...</td>\n",
       "    </tr>\n",
       "    <tr>\n",
       "      <th>4</th>\n",
       "      <td>[{'start': 2, 'end': 2, 'error': '-', 'correct...</td>\n",
       "      <td>28</td>\n",
       "      <td>Surveillance technology such as RFID ( radio-f...</td>\n",
       "      <td>Surveillance technology , such as RFID ( radio...</td>\n",
       "    </tr>\n",
       "    <tr>\n",
       "      <th>...</th>\n",
       "      <td>...</td>\n",
       "      <td>...</td>\n",
       "      <td>...</td>\n",
       "      <td>...</td>\n",
       "    </tr>\n",
       "    <tr>\n",
       "      <th>1433</th>\n",
       "      <td>[{'start': 2, 'end': 3, 'error': 'on', 'correc...</td>\n",
       "      <td>863</td>\n",
       "      <td>The impact on having a limited amount of creat...</td>\n",
       "      <td>The impact of having a limited number of creat...</td>\n",
       "    </tr>\n",
       "    <tr>\n",
       "      <th>1434</th>\n",
       "      <td>[{'start': 26, 'end': 27, 'error': 'problem', ...</td>\n",
       "      <td>866</td>\n",
       "      <td>In conclusion , even though we realize the imp...</td>\n",
       "      <td>In conclusion , even though we realize the imp...</td>\n",
       "    </tr>\n",
       "    <tr>\n",
       "      <th>1435</th>\n",
       "      <td>[{'start': 5, 'end': 11, 'error': 'a discovery...</td>\n",
       "      <td>870</td>\n",
       "      <td>Serendipity is usually defined as a discovery ...</td>\n",
       "      <td>Serendipity is usually defined as the phenomen...</td>\n",
       "    </tr>\n",
       "    <tr>\n",
       "      <th>1436</th>\n",
       "      <td>[{'start': 0, 'end': 7, 'error': 'Serendipity-...</td>\n",
       "      <td>877</td>\n",
       "      <td>Serendipity-based technology has some similari...</td>\n",
       "      <td>There are some similarities and differences be...</td>\n",
       "    </tr>\n",
       "    <tr>\n",
       "      <th>1437</th>\n",
       "      <td>[{'start': 5, 'end': 8, 'error': 'have demands...</td>\n",
       "      <td>882</td>\n",
       "      <td>When people encounter problems or have demands...</td>\n",
       "      <td>When people encounter problems or demand certa...</td>\n",
       "    </tr>\n",
       "  </tbody>\n",
       "</table>\n",
       "<p>1438 rows × 4 columns</p>\n",
       "</div>"
      ],
      "text/plain": [
       "                                            corrections   id  \\\n",
       "0     [{'start': 1, 'end': 1, 'error': '-', 'correct...    4   \n",
       "1     [{'start': 1, 'end': 2, 'error': 'work', 'corr...   11   \n",
       "2     [{'start': 9, 'end': 11, 'error': 'is being', ...   14   \n",
       "3     [{'start': 2, 'end': 2, 'error': '-', 'correct...   20   \n",
       "4     [{'start': 2, 'end': 2, 'error': '-', 'correct...   28   \n",
       "...                                                 ...  ...   \n",
       "1433  [{'start': 2, 'end': 3, 'error': 'on', 'correc...  863   \n",
       "1434  [{'start': 26, 'end': 27, 'error': 'problem', ...  866   \n",
       "1435  [{'start': 5, 'end': 11, 'error': 'a discovery...  870   \n",
       "1436  [{'start': 0, 'end': 7, 'error': 'Serendipity-...  877   \n",
       "1437  [{'start': 5, 'end': 8, 'error': 'have demands...  882   \n",
       "\n",
       "                                     incorrect sentence  \\\n",
       "0     In modern digital world , electronic products ...   \n",
       "1     In work places , electronic devices such as co...   \n",
       "2     The convenience and high efficiency of using e...   \n",
       "3     Some people started to think if electronic pro...   \n",
       "4     Surveillance technology such as RFID ( radio-f...   \n",
       "...                                                 ...   \n",
       "1433  The impact on having a limited amount of creat...   \n",
       "1434  In conclusion , even though we realize the imp...   \n",
       "1435  Serendipity is usually defined as a discovery ...   \n",
       "1436  Serendipity-based technology has some similari...   \n",
       "1437  When people encounter problems or have demands...   \n",
       "\n",
       "                                       correct sentence  \n",
       "0     In the modern digital world , electronic produ...  \n",
       "1     In the workplace electronic devices , such as ...  \n",
       "2     The convenience and high efficiency of using e...  \n",
       "3     Some people have started to wonder if electron...  \n",
       "4     Surveillance technology , such as RFID ( radio...  \n",
       "...                                                 ...  \n",
       "1433  The impact of having a limited number of creat...  \n",
       "1434  In conclusion , even though we realize the imp...  \n",
       "1435  Serendipity is usually defined as the phenomen...  \n",
       "1436  There are some similarities and differences be...  \n",
       "1437  When people encounter problems or demand certa...  \n",
       "\n",
       "[1438 rows x 4 columns]"
      ]
     },
     "execution_count": 15,
     "metadata": {},
     "output_type": "execute_result"
    }
   ],
   "source": [
    "df"
   ]
  },
  {
   "cell_type": "code",
   "execution_count": 16,
   "metadata": {},
   "outputs": [],
   "source": [
    "df = df.drop(columns=['id', ])"
   ]
  },
  {
   "cell_type": "code",
   "execution_count": 17,
   "metadata": {},
   "outputs": [
    {
     "data": {
      "text/html": [
       "<div>\n",
       "<style scoped>\n",
       "    .dataframe tbody tr th:only-of-type {\n",
       "        vertical-align: middle;\n",
       "    }\n",
       "\n",
       "    .dataframe tbody tr th {\n",
       "        vertical-align: top;\n",
       "    }\n",
       "\n",
       "    .dataframe thead th {\n",
       "        text-align: right;\n",
       "    }\n",
       "</style>\n",
       "<table border=\"1\" class=\"dataframe\">\n",
       "  <thead>\n",
       "    <tr style=\"text-align: right;\">\n",
       "      <th></th>\n",
       "      <th>corrections</th>\n",
       "      <th>incorrect sentence</th>\n",
       "      <th>correct sentence</th>\n",
       "    </tr>\n",
       "  </thead>\n",
       "  <tbody>\n",
       "    <tr>\n",
       "      <th>0</th>\n",
       "      <td>[{'start': 1, 'end': 1, 'error': '-', 'correct...</td>\n",
       "      <td>In modern digital world , electronic products ...</td>\n",
       "      <td>In the modern digital world , electronic produ...</td>\n",
       "    </tr>\n",
       "    <tr>\n",
       "      <th>1</th>\n",
       "      <td>[{'start': 1, 'end': 2, 'error': 'work', 'corr...</td>\n",
       "      <td>In work places , electronic devices such as co...</td>\n",
       "      <td>In the workplace electronic devices , such as ...</td>\n",
       "    </tr>\n",
       "    <tr>\n",
       "      <th>2</th>\n",
       "      <td>[{'start': 9, 'end': 11, 'error': 'is being', ...</td>\n",
       "      <td>The convenience and high efficiency of using e...</td>\n",
       "      <td>The convenience and high efficiency of using e...</td>\n",
       "    </tr>\n",
       "    <tr>\n",
       "      <th>3</th>\n",
       "      <td>[{'start': 2, 'end': 2, 'error': '-', 'correct...</td>\n",
       "      <td>Some people started to think if electronic pro...</td>\n",
       "      <td>Some people have started to wonder if electron...</td>\n",
       "    </tr>\n",
       "    <tr>\n",
       "      <th>4</th>\n",
       "      <td>[{'start': 2, 'end': 2, 'error': '-', 'correct...</td>\n",
       "      <td>Surveillance technology such as RFID ( radio-f...</td>\n",
       "      <td>Surveillance technology , such as RFID ( radio...</td>\n",
       "    </tr>\n",
       "    <tr>\n",
       "      <th>...</th>\n",
       "      <td>...</td>\n",
       "      <td>...</td>\n",
       "      <td>...</td>\n",
       "    </tr>\n",
       "    <tr>\n",
       "      <th>1433</th>\n",
       "      <td>[{'start': 2, 'end': 3, 'error': 'on', 'correc...</td>\n",
       "      <td>The impact on having a limited amount of creat...</td>\n",
       "      <td>The impact of having a limited number of creat...</td>\n",
       "    </tr>\n",
       "    <tr>\n",
       "      <th>1434</th>\n",
       "      <td>[{'start': 26, 'end': 27, 'error': 'problem', ...</td>\n",
       "      <td>In conclusion , even though we realize the imp...</td>\n",
       "      <td>In conclusion , even though we realize the imp...</td>\n",
       "    </tr>\n",
       "    <tr>\n",
       "      <th>1435</th>\n",
       "      <td>[{'start': 5, 'end': 11, 'error': 'a discovery...</td>\n",
       "      <td>Serendipity is usually defined as a discovery ...</td>\n",
       "      <td>Serendipity is usually defined as the phenomen...</td>\n",
       "    </tr>\n",
       "    <tr>\n",
       "      <th>1436</th>\n",
       "      <td>[{'start': 0, 'end': 7, 'error': 'Serendipity-...</td>\n",
       "      <td>Serendipity-based technology has some similari...</td>\n",
       "      <td>There are some similarities and differences be...</td>\n",
       "    </tr>\n",
       "    <tr>\n",
       "      <th>1437</th>\n",
       "      <td>[{'start': 5, 'end': 8, 'error': 'have demands...</td>\n",
       "      <td>When people encounter problems or have demands...</td>\n",
       "      <td>When people encounter problems or demand certa...</td>\n",
       "    </tr>\n",
       "  </tbody>\n",
       "</table>\n",
       "<p>1438 rows × 3 columns</p>\n",
       "</div>"
      ],
      "text/plain": [
       "                                            corrections  \\\n",
       "0     [{'start': 1, 'end': 1, 'error': '-', 'correct...   \n",
       "1     [{'start': 1, 'end': 2, 'error': 'work', 'corr...   \n",
       "2     [{'start': 9, 'end': 11, 'error': 'is being', ...   \n",
       "3     [{'start': 2, 'end': 2, 'error': '-', 'correct...   \n",
       "4     [{'start': 2, 'end': 2, 'error': '-', 'correct...   \n",
       "...                                                 ...   \n",
       "1433  [{'start': 2, 'end': 3, 'error': 'on', 'correc...   \n",
       "1434  [{'start': 26, 'end': 27, 'error': 'problem', ...   \n",
       "1435  [{'start': 5, 'end': 11, 'error': 'a discovery...   \n",
       "1436  [{'start': 0, 'end': 7, 'error': 'Serendipity-...   \n",
       "1437  [{'start': 5, 'end': 8, 'error': 'have demands...   \n",
       "\n",
       "                                     incorrect sentence  \\\n",
       "0     In modern digital world , electronic products ...   \n",
       "1     In work places , electronic devices such as co...   \n",
       "2     The convenience and high efficiency of using e...   \n",
       "3     Some people started to think if electronic pro...   \n",
       "4     Surveillance technology such as RFID ( radio-f...   \n",
       "...                                                 ...   \n",
       "1433  The impact on having a limited amount of creat...   \n",
       "1434  In conclusion , even though we realize the imp...   \n",
       "1435  Serendipity is usually defined as a discovery ...   \n",
       "1436  Serendipity-based technology has some similari...   \n",
       "1437  When people encounter problems or have demands...   \n",
       "\n",
       "                                       correct sentence  \n",
       "0     In the modern digital world , electronic produ...  \n",
       "1     In the workplace electronic devices , such as ...  \n",
       "2     The convenience and high efficiency of using e...  \n",
       "3     Some people have started to wonder if electron...  \n",
       "4     Surveillance technology , such as RFID ( radio...  \n",
       "...                                                 ...  \n",
       "1433  The impact of having a limited number of creat...  \n",
       "1434  In conclusion , even though we realize the imp...  \n",
       "1435  Serendipity is usually defined as the phenomen...  \n",
       "1436  There are some similarities and differences be...  \n",
       "1437  When people encounter problems or demand certa...  \n",
       "\n",
       "[1438 rows x 3 columns]"
      ]
     },
     "execution_count": 17,
     "metadata": {},
     "output_type": "execute_result"
    }
   ],
   "source": [
    "df"
   ]
  },
  {
   "cell_type": "code",
   "execution_count": 22,
   "metadata": {},
   "outputs": [],
   "source": [
    "import datasets"
   ]
  },
  {
   "cell_type": "code",
   "execution_count": 31,
   "metadata": {},
   "outputs": [],
   "source": [
    "dataset = datasets.Dataset.from_pandas(df).rename_columns({'incorrect sentence': 'incorrect_sentence', 'correct sentence': 'correct_sentence'})"
   ]
  },
  {
   "cell_type": "code",
   "execution_count": 32,
   "metadata": {},
   "outputs": [],
   "source": [
    "dataset = dataset.train_test_split(test_size=0.1, shuffle=True)"
   ]
  },
  {
   "cell_type": "code",
   "execution_count": 33,
   "metadata": {},
   "outputs": [
    {
     "data": {
      "text/plain": [
       "DatasetDict({\n",
       "    train: Dataset({\n",
       "        features: ['corrections', 'incorrect_sentence', 'correct_sentence'],\n",
       "        num_rows: 1294\n",
       "    })\n",
       "    test: Dataset({\n",
       "        features: ['corrections', 'incorrect_sentence', 'correct_sentence'],\n",
       "        num_rows: 144\n",
       "    })\n",
       "})"
      ]
     },
     "execution_count": 33,
     "metadata": {},
     "output_type": "execute_result"
    }
   ],
   "source": [
    "dataset"
   ]
  },
  {
   "cell_type": "code",
   "execution_count": 34,
   "metadata": {},
   "outputs": [
    {
     "data": {
      "application/vnd.jupyter.widget-view+json": {
       "model_id": "66ef3c6548c2404a973f1296f10f0374",
       "version_major": 2,
       "version_minor": 0
      },
      "text/plain": [
       "Pushing dataset shards to the dataset hub:   0%|          | 0/1 [00:00<?, ?it/s]"
      ]
     },
     "metadata": {},
     "output_type": "display_data"
    },
    {
     "data": {
      "application/vnd.jupyter.widget-view+json": {
       "model_id": "8305cf3b8e244b35a09121f0d6190eb6",
       "version_major": 2,
       "version_minor": 0
      },
      "text/plain": [
       "Creating parquet from Arrow format:   0%|          | 0/2 [00:00<?, ?ba/s]"
      ]
     },
     "metadata": {},
     "output_type": "display_data"
    },
    {
     "data": {
      "application/vnd.jupyter.widget-view+json": {
       "model_id": "ea96e001a0324d77bd6d577b6298d23a",
       "version_major": 2,
       "version_minor": 0
      },
      "text/plain": [
       "Deleting unused files from dataset repository:   0%|          | 0/1 [00:00<?, ?it/s]"
      ]
     },
     "metadata": {},
     "output_type": "display_data"
    },
    {
     "data": {
      "application/vnd.jupyter.widget-view+json": {
       "model_id": "86d27dd968ad42ce9d303d4b14734b96",
       "version_major": 2,
       "version_minor": 0
      },
      "text/plain": [
       "Pushing dataset shards to the dataset hub:   0%|          | 0/1 [00:00<?, ?it/s]"
      ]
     },
     "metadata": {},
     "output_type": "display_data"
    },
    {
     "data": {
      "application/vnd.jupyter.widget-view+json": {
       "model_id": "00c58bdb7c7844e391148983a724a009",
       "version_major": 2,
       "version_minor": 0
      },
      "text/plain": [
       "Creating parquet from Arrow format:   0%|          | 0/1 [00:00<?, ?ba/s]"
      ]
     },
     "metadata": {},
     "output_type": "display_data"
    },
    {
     "data": {
      "application/vnd.jupyter.widget-view+json": {
       "model_id": "598ebca4905745ba9fa7d65a21bfbd7f",
       "version_major": 2,
       "version_minor": 0
      },
      "text/plain": [
       "Deleting unused files from dataset repository:   0%|          | 0/1 [00:00<?, ?it/s]"
      ]
     },
     "metadata": {},
     "output_type": "display_data"
    },
    {
     "data": {
      "application/vnd.jupyter.widget-view+json": {
       "model_id": "daeedba9a9ab4f4bbd19f4e0c365987a",
       "version_major": 2,
       "version_minor": 0
      },
      "text/plain": [
       "Downloading metadata:   0%|          | 0.00/839 [00:00<?, ?B/s]"
      ]
     },
     "metadata": {},
     "output_type": "display_data"
    }
   ],
   "source": [
    "dataset.push_to_hub('kaneko_data')"
   ]
  },
  {
   "cell_type": "code",
   "execution_count": 35,
   "metadata": {},
   "outputs": [
    {
     "data": {
      "application/vnd.jupyter.widget-view+json": {
       "model_id": "a5b541f9e79d45ba9efa4cdce7674f5d",
       "version_major": 2,
       "version_minor": 0
      },
      "text/plain": [
       "Downloading readme:   0%|          | 0.00/839 [00:00<?, ?B/s]"
      ]
     },
     "metadata": {},
     "output_type": "display_data"
    },
    {
     "data": {
      "application/vnd.jupyter.widget-view+json": {
       "model_id": "5741b56389b5459a9c3b81b1c55d7237",
       "version_major": 2,
       "version_minor": 0
      },
      "text/plain": [
       "Downloading data files:   0%|          | 0/2 [00:00<?, ?it/s]"
      ]
     },
     "metadata": {},
     "output_type": "display_data"
    },
    {
     "data": {
      "application/vnd.jupyter.widget-view+json": {
       "model_id": "aa2152c1acbd474cb620cb835bc3a2db",
       "version_major": 2,
       "version_minor": 0
      },
      "text/plain": [
       "Downloading data:   0%|          | 0.00/398k [00:00<?, ?B/s]"
      ]
     },
     "metadata": {},
     "output_type": "display_data"
    },
    {
     "data": {
      "application/vnd.jupyter.widget-view+json": {
       "model_id": "63bcf7ea084443a38abded0eac536d7b",
       "version_major": 2,
       "version_minor": 0
      },
      "text/plain": [
       "Downloading data:   0%|          | 0.00/58.6k [00:00<?, ?B/s]"
      ]
     },
     "metadata": {},
     "output_type": "display_data"
    },
    {
     "data": {
      "application/vnd.jupyter.widget-view+json": {
       "model_id": "4ab1811af5a54c3ca327ca62fdbacdcd",
       "version_major": 2,
       "version_minor": 0
      },
      "text/plain": [
       "Extracting data files:   0%|          | 0/2 [00:00<?, ?it/s]"
      ]
     },
     "metadata": {},
     "output_type": "display_data"
    },
    {
     "data": {
      "application/vnd.jupyter.widget-view+json": {
       "model_id": "dc441971203c40d49f7c973e93403a58",
       "version_major": 2,
       "version_minor": 0
      },
      "text/plain": [
       "Generating train split:   0%|          | 0/1294 [00:00<?, ? examples/s]"
      ]
     },
     "metadata": {},
     "output_type": "display_data"
    },
    {
     "data": {
      "application/vnd.jupyter.widget-view+json": {
       "model_id": "c4f7eec2d3ca43968f960a9c234ae7e7",
       "version_major": 2,
       "version_minor": 0
      },
      "text/plain": [
       "Generating test split:   0%|          | 0/144 [00:00<?, ? examples/s]"
      ]
     },
     "metadata": {},
     "output_type": "display_data"
    }
   ],
   "source": [
    "from datasets import load_dataset\n",
    "\n",
    "ds = load_dataset('boda/kaneko_data')"
   ]
  },
  {
   "cell_type": "code",
   "execution_count": 38,
   "metadata": {},
   "outputs": [
    {
     "data": {
      "text/plain": [
       "[{'correct': '-',\n",
       "  'end': 23,\n",
       "  'error': 'though',\n",
       "  'explanation': 'The phrase \"even though,\" like \"although,\" refers to a state that contradicts reality, while the phrase \"even if\" is conditional, meaning that the state is uncertain or undecided. It cannot be known whether there is a risk without performing genetic testing, so the phrase \"even though there is no risk at all,\" which presumes that there is no risk, is illogical.',\n",
       "  'start': 22}]"
      ]
     },
     "execution_count": 38,
     "metadata": {},
     "output_type": "execute_result"
    }
   ],
   "source": [
    "ds['train'][0]['corrections']"
   ]
  },
  {
   "cell_type": "code",
   "execution_count": 49,
   "metadata": {},
   "outputs": [],
   "source": [
    "import random \n",
    "\n",
    "## Few-shots + explicit_errors\n",
    "few_shots_explicit = '''You are given a few examples of erroneous sentences and their corrections. For every example, you are given the explicit errors and their corrections. You are also given an erroneous input sentence and its correction, followed by the explicit errors in this sentence. Output a simple explanation for each error in the erroneous sentence.'''\n",
    "\n",
    "## Few shots + no explicit errors\n",
    "few_shots_no_explicit = '''You are given a few examples of erroneous sentences and their corrections. You are also given an erroneous input sentence and its correction. Output a simple explanation for each error in the erroneous sentence.'''\n",
    "\n",
    "## No few-shots + explicit\n",
    "no_few_shots_explicit = '''You are given an erroneous input sentence and its correction, followed by the explicit errors in this sentence. Output a simple explanation for each error in the erroneous sentence.'''\n",
    "\n",
    "## No few-shots + no explicit\n",
    "no_few_shots_no_explicit = '''You are given an erroneous input sentence and its correction. Output a simple explanation for each error in the erroneous sentence.'''\n",
    "\n",
    "def put_explicit_error(example):\n",
    "    ret = ''\n",
    "    ret += f\"Errors:\\n\"\n",
    "\n",
    "    for i,correction in enumerate(example['corrections']):\n",
    "        correct_word = ' ' if correction['correct'] == '-' else correction['correct']\n",
    "        error_word = ' ' if correction['error'] == '-' else correction['error']\n",
    "\n",
    "        ret += f\"{i+1}. Error: {error_word}, Correction: {correct_word}\\n\"\n",
    "    \n",
    "    return ret\n",
    "\n",
    "\n",
    "def generate_prompt(example, base_prompt = None,num_shots=0, shots_options =None, explicit_errors = 0,train = 1):\n",
    "    full_prompt  = base_prompt\n",
    "\n",
    "    if num_shots:\n",
    "        samples = random.sample(shots_options, num_shots)\n",
    "\n",
    "        for sample in samples:\n",
    "            full_prompt += f\"Erroneous sentence: {sample['incorrect_sentence']}\\n\"\n",
    "            full_prompt += f\"Correct sentence: {sample['correct_sentence']}\\n\"\n",
    "            if explicit_errors:\n",
    "                full_prompt += put_explicit_error(sample)\n",
    "\n",
    "            full_prompt += f\"Explanations:\\n\"\n",
    "            for i,correction in enumerate(sample['corrections']):\n",
    "                full_prompt += f\"{i+1}. {correction['explanation']}\\n\"\n",
    "            \n",
    "    full_prompt += f\"Erroneous sentence: {example['incorrect_sentence']}\\n\"\n",
    "    full_prompt += f\"Correct sentence: {example['correct_sentence']}\\n\"\n",
    "\n",
    "    if explicit_errors:\n",
    "        full_prompt += put_explicit_error(example)\n",
    "        \n",
    "    full_prompt += f\"Explanations:\\n\"\n",
    "\n",
    "    if train:\n",
    "        for i,correction in enumerate(example['corrections']):\n",
    "            full_prompt += f\"{i+1}. {correction['explanation']}\\n\"\n",
    "\n",
    "    return full_prompt"
   ]
  },
  {
   "cell_type": "code",
   "execution_count": 53,
   "metadata": {},
   "outputs": [
    {
     "name": "stdout",
     "output_type": "stream",
     "text": [
      "hi\n",
      "Erroneous sentence: Those who are born into a family with a history of genetic disease should be allowed to undergo genetic testing , even though if there is no risk at all .\n",
      "Correct sentence: Those who are born into a family with a history of genetic disease should be allowed to undergo genetic testing , even if there is no risk at all .\n",
      "Explanations:\n",
      "\n"
     ]
    }
   ],
   "source": [
    "print(generate_prompt(ds['train'][0],base_prompt = 'hi\\n' ,num_shots=0, shots_options=ds['train'].to_list(), explicit_errors=0, train= 0))"
   ]
  },
  {
   "cell_type": "code",
   "execution_count": null,
   "metadata": {},
   "outputs": [],
   "source": []
  }
 ],
 "metadata": {
  "kernelspec": {
   "display_name": "Python 3",
   "language": "python",
   "name": "python3"
  },
  "language_info": {
   "codemirror_mode": {
    "name": "ipython",
    "version": 3
   },
   "file_extension": ".py",
   "mimetype": "text/x-python",
   "name": "python",
   "nbconvert_exporter": "python",
   "pygments_lexer": "ipython3",
   "version": "3.10.12"
  }
 },
 "nbformat": 4,
 "nbformat_minor": 2
}
