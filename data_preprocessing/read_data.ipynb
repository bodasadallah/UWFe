{
 "cells": [
  {
   "cell_type": "code",
   "execution_count": 2,
   "metadata": {},
   "outputs": [],
   "source": [
    "import json\n",
    "\n",
    "data_path = '../data/explanations_data/json/train.json'\n",
    "\n",
    "\n",
    "data = []\n",
    "with open(data_path, 'r') as f:\n",
    "    for line in f:\n",
    "        data.append(json.loads(line))"
   ]
  },
  {
   "cell_type": "code",
   "execution_count": 25,
   "metadata": {},
   "outputs": [],
   "source": [
    "idx = 77\n",
    "\n",
    "error = ' '.join(data[idx]['source'])# .replace('[NONE]', '').strip()\n",
    "correct = ' '.join(data[idx]['target'])#.replace('[NONE]', '').strip()\n",
    "\n",
    "concat = data[idx]['target'] + ['[SEP]'] + data[idx]['source']\n",
    "\n",
    "correct_token = concat[data[idx]['correction_index'][0]]\n",
    "wrong_token = concat[data[idx]['correction_index'][1]]"
   ]
  },
  {
   "cell_type": "code",
   "execution_count": 26,
   "metadata": {},
   "outputs": [
    {
     "name": "stdout",
     "output_type": "stream",
     "text": [
      "But we should n't forgotten the pollution cause by cars . We should use a bicycle or public transportation more . But we should n't forget the pollution cause by cars . We should use a bicycle or public transportation more .\n",
      "error token: forgotten, correct token: forget\n"
     ]
    }
   ],
   "source": [
    "print(error, correct)\n",
    "print(f'error token: {wrong_token}, correct token: {correct_token}')"
   ]
  },
  {
   "cell_type": "code",
   "execution_count": 27,
   "metadata": {},
   "outputs": [],
   "source": [
    "prompt = '''\n",
    "\n",
    "I will give you a sentence that contains a grammatical error. I will also give you the error word, and its correction.  Give a simple explanation of the correction. also, give some examples that have the same error and their corrections.'''"
   ]
  },
  {
   "cell_type": "code",
   "execution_count": 28,
   "metadata": {},
   "outputs": [
    {
     "name": "stdout",
     "output_type": "stream",
     "text": [
      "\n",
      "\n",
      "\n",
      "I will give you a sentence that contains a grammatical error. I will also give you the error word, and its correction.  Give a simple explanation of the correction. also, give some examples that have the same error and their corrections.\n",
      "Sentence:\n",
      "But we should n't forgotten the pollution cause by cars . We should use a bicycle or public transportation more .\n",
      "\n",
      "Error token: forgotten\n",
      "Correct token: forget\n",
      "\n"
     ]
    }
   ],
   "source": [
    "full_prompt = f'''\n",
    "{prompt}\n",
    "Sentence:\n",
    "{error}\n",
    "\n",
    "Error token: {wrong_token}\n",
    "Correct token: {correct_token}\n",
    "'''\n",
    "\n",
    "\n",
    "\n",
    "print(full_prompt)"
   ]
  },
  {
   "cell_type": "code",
   "execution_count": null,
   "metadata": {},
   "outputs": [],
   "source": []
  },
  {
   "cell_type": "code",
   "execution_count": null,
   "metadata": {},
   "outputs": [],
   "source": []
  },
  {
   "cell_type": "code",
   "execution_count": null,
   "metadata": {},
   "outputs": [],
   "source": []
  },
  {
   "cell_type": "code",
   "execution_count": null,
   "metadata": {},
   "outputs": [],
   "source": []
  },
  {
   "cell_type": "code",
   "execution_count": null,
   "metadata": {},
   "outputs": [],
   "source": []
  },
  {
   "cell_type": "code",
   "execution_count": null,
   "metadata": {},
   "outputs": [],
   "source": []
  },
  {
   "cell_type": "code",
   "execution_count": null,
   "metadata": {},
   "outputs": [],
   "source": []
  },
  {
   "cell_type": "code",
   "execution_count": null,
   "metadata": {},
   "outputs": [],
   "source": []
  },
  {
   "cell_type": "code",
   "execution_count": null,
   "metadata": {},
   "outputs": [],
   "source": []
  }
 ],
 "metadata": {
  "kernelspec": {
   "display_name": "base",
   "language": "python",
   "name": "python3"
  },
  "language_info": {
   "codemirror_mode": {
    "name": "ipython",
    "version": 3
   },
   "file_extension": ".py",
   "mimetype": "text/x-python",
   "name": "python",
   "nbconvert_exporter": "python",
   "pygments_lexer": "ipython3",
   "version": "3.10.13"
  }
 },
 "nbformat": 4,
 "nbformat_minor": 2
}
