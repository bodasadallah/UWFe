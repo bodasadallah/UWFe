{
 "cells": [
  {
   "cell_type": "code",
   "execution_count": 45,
   "metadata": {},
   "outputs": [],
   "source": [
    "import json\n",
    "import pandas as pd\n",
    "import numpy as np\n",
    "data_path = '../included_data/gpt3.5_generated_training_filtered.json'\n",
    "\n",
    "\n",
    "data = []\n",
    "with open(data_path, 'r') as f:\n",
    "    data = json.load(f)\n",
    "\n",
    "df = pd.DataFrame(data)"
   ]
  },
  {
   "cell_type": "code",
   "execution_count": 46,
   "metadata": {},
   "outputs": [],
   "source": [
    "# df = df.groupby('error_type')"
   ]
  },
  {
   "cell_type": "code",
   "execution_count": 47,
   "metadata": {},
   "outputs": [
    {
     "data": {
      "text/plain": [
       "15"
      ]
     },
     "execution_count": 47,
     "metadata": {},
     "output_type": "execute_result"
    }
   ],
   "source": [
    "len(df['error_type'].unique())"
   ]
  },
  {
   "cell_type": "code",
   "execution_count": 48,
   "metadata": {},
   "outputs": [],
   "source": [
    "size = 5        # sample size\n",
    "replace = True  # with replacement\n",
    "fn = lambda obj: obj.loc[np.random.choice(obj.index, size, replace),:]\n",
    "# samples = df.groupby('error_type', as_index=False).apply(fn)\n",
    "\n",
    "samples = df.groupby('error_type').apply(lambda x: x.sample(5)).reset_index(drop=True)"
   ]
  },
  {
   "cell_type": "code",
   "execution_count": 49,
   "metadata": {},
   "outputs": [
    {
     "data": {
      "text/html": [
       "<div>\n",
       "<style scoped>\n",
       "    .dataframe tbody tr th:only-of-type {\n",
       "        vertical-align: middle;\n",
       "    }\n",
       "\n",
       "    .dataframe tbody tr th {\n",
       "        vertical-align: top;\n",
       "    }\n",
       "\n",
       "    .dataframe thead th {\n",
       "        text-align: right;\n",
       "    }\n",
       "</style>\n",
       "<table border=\"1\" class=\"dataframe\">\n",
       "  <thead>\n",
       "    <tr style=\"text-align: right;\">\n",
       "      <th></th>\n",
       "      <th>idx</th>\n",
       "      <th>error</th>\n",
       "      <th>correct</th>\n",
       "      <th>correct_token</th>\n",
       "      <th>wrong_token</th>\n",
       "      <th>chatgpt_response</th>\n",
       "      <th>prompt</th>\n",
       "      <th>model</th>\n",
       "      <th>error_type</th>\n",
       "    </tr>\n",
       "  </thead>\n",
       "  <tbody>\n",
       "    <tr>\n",
       "      <th>0</th>\n",
       "      <td>4644</td>\n",
       "      <td>When I was returning from Syleth , I called th...</td>\n",
       "      <td>When I was returning from Syleth , I called th...</td>\n",
       "      <td>the</td>\n",
       "      <td>[NONE]</td>\n",
       "      <td>{'explanation': 'the error in the erroneous se...</td>\n",
       "      <td>The next two lines contain an erroneous senten...</td>\n",
       "      <td>gpt-3.5-turbo</td>\n",
       "      <td>Article</td>\n",
       "    </tr>\n",
       "    <tr>\n",
       "      <th>1</th>\n",
       "      <td>592</td>\n",
       "      <td>Whatever the choice is , it will leave the mar...</td>\n",
       "      <td>Whatever the choice is , it will leave a mark ...</td>\n",
       "      <td>a</td>\n",
       "      <td>the</td>\n",
       "      <td>{'explanation': 'the error is the use of 'the ...</td>\n",
       "      <td>The next two lines contain an erroneous senten...</td>\n",
       "      <td>gpt-3.5-turbo</td>\n",
       "      <td>Article</td>\n",
       "    </tr>\n",
       "    <tr>\n",
       "      <th>2</th>\n",
       "      <td>12266</td>\n",
       "      <td>Also , because of the fact that the urbanizati...</td>\n",
       "      <td>Also , because of the fact that  urbanization ...</td>\n",
       "      <td>[NONE]</td>\n",
       "      <td>the</td>\n",
       "      <td>{'explanation': 'the phrase 'the fact that' is...</td>\n",
       "      <td>The next two lines contain an erroneous senten...</td>\n",
       "      <td>gpt-3.5-turbo</td>\n",
       "      <td>Article</td>\n",
       "    </tr>\n",
       "    <tr>\n",
       "      <th>3</th>\n",
       "      <td>11100</td>\n",
       "      <td>All my yoga lessons and massage sessions are c...</td>\n",
       "      <td>All my yoga lessons and massage sessions are c...</td>\n",
       "      <td>the</td>\n",
       "      <td>[NONE]</td>\n",
       "      <td>{'explanation': 'there should not be a space b...</td>\n",
       "      <td>The next two lines contain an erroneous senten...</td>\n",
       "      <td>gpt-3.5-turbo</td>\n",
       "      <td>Article</td>\n",
       "    </tr>\n",
       "    <tr>\n",
       "      <th>4</th>\n",
       "      <td>8061</td>\n",
       "      <td>Furthermore , the government are enhancing the...</td>\n",
       "      <td>Furthermore , the government are enhancing  pu...</td>\n",
       "      <td>[NONE]</td>\n",
       "      <td>the</td>\n",
       "      <td>{'explanation': 'the error is in subject-verb ...</td>\n",
       "      <td>The next two lines contain an erroneous senten...</td>\n",
       "      <td>gpt-3.5-turbo</td>\n",
       "      <td>Article</td>\n",
       "    </tr>\n",
       "  </tbody>\n",
       "</table>\n",
       "</div>"
      ],
      "text/plain": [
       "     idx                                              error  \\\n",
       "0   4644  When I was returning from Syleth , I called th...   \n",
       "1    592  Whatever the choice is , it will leave the mar...   \n",
       "2  12266  Also , because of the fact that the urbanizati...   \n",
       "3  11100  All my yoga lessons and massage sessions are c...   \n",
       "4   8061  Furthermore , the government are enhancing the...   \n",
       "\n",
       "                                             correct correct_token  \\\n",
       "0  When I was returning from Syleth , I called th...           the   \n",
       "1  Whatever the choice is , it will leave a mark ...             a   \n",
       "2  Also , because of the fact that  urbanization ...        [NONE]   \n",
       "3  All my yoga lessons and massage sessions are c...           the   \n",
       "4  Furthermore , the government are enhancing  pu...        [NONE]   \n",
       "\n",
       "  wrong_token                                   chatgpt_response  \\\n",
       "0      [NONE]  {'explanation': 'the error in the erroneous se...   \n",
       "1         the  {'explanation': 'the error is the use of 'the ...   \n",
       "2         the  {'explanation': 'the phrase 'the fact that' is...   \n",
       "3      [NONE]  {'explanation': 'there should not be a space b...   \n",
       "4         the  {'explanation': 'the error is in subject-verb ...   \n",
       "\n",
       "                                              prompt          model error_type  \n",
       "0  The next two lines contain an erroneous senten...  gpt-3.5-turbo    Article  \n",
       "1  The next two lines contain an erroneous senten...  gpt-3.5-turbo    Article  \n",
       "2  The next two lines contain an erroneous senten...  gpt-3.5-turbo    Article  \n",
       "3  The next two lines contain an erroneous senten...  gpt-3.5-turbo    Article  \n",
       "4  The next two lines contain an erroneous senten...  gpt-3.5-turbo    Article  "
      ]
     },
     "execution_count": 49,
     "metadata": {},
     "output_type": "execute_result"
    }
   ],
   "source": [
    "samples.head()"
   ]
  },
  {
   "cell_type": "code",
   "execution_count": 50,
   "metadata": {},
   "outputs": [
    {
     "data": {
      "text/plain": [
       "75"
      ]
     },
     "execution_count": 50,
     "metadata": {},
     "output_type": "execute_result"
    }
   ],
   "source": [
    "len(samples)"
   ]
  },
  {
   "cell_type": "code",
   "execution_count": 51,
   "metadata": {},
   "outputs": [
    {
     "data": {
      "text/plain": [
       "pandas.core.frame.DataFrame"
      ]
     },
     "execution_count": 51,
     "metadata": {},
     "output_type": "execute_result"
    }
   ],
   "source": [
    "type(samples)"
   ]
  },
  {
   "cell_type": "code",
   "execution_count": 52,
   "metadata": {},
   "outputs": [
    {
     "data": {
      "text/plain": [
       "Index(['idx', 'error', 'correct', 'correct_token', 'wrong_token',\n",
       "       'chatgpt_response', 'prompt', 'model', 'error_type'],\n",
       "      dtype='object')"
      ]
     },
     "execution_count": 52,
     "metadata": {},
     "output_type": "execute_result"
    }
   ],
   "source": [
    "samples.columns"
   ]
  },
  {
   "cell_type": "code",
   "execution_count": 56,
   "metadata": {},
   "outputs": [],
   "source": [
    "samples.drop(columns=['idx', 'correct_token', 'wrong_token', 'prompt', 'model']).to_csv('sampled_data.csv', index=False)"
   ]
  },
  {
   "cell_type": "code",
   "execution_count": 55,
   "metadata": {},
   "outputs": [],
   "source": [
    "with open('samples.txt', 'w') as f:\n",
    "    for i,r in samples.iterrows():\n",
    "        f.write('Error_type: '+r['error_type'] + '\\n')\n",
    "        f.write('Error: ' +r['error'] + '\\n')\n",
    "        f.write('Correct: ' +r['correct'] + '\\n')\n",
    "        f.write('Wrong word: ' +r['wrong_token'] + '\\n')\n",
    "        f.write('Correct word: ' +r['correct_token'] + '\\n')\n",
    "        f.write('Explanation: ' +r['chatgpt_response']['explanation'] + '\\n')\n",
    "        f.write('Ex1_error: ' +r['chatgpt_response']['example1_erroneous'] + '\\n')\n",
    "        f.write('Ex1_correct: ' +r['chatgpt_response']['example1_correct'] + '\\n')\n",
    "        f.write('Ex2_error: ' +r['chatgpt_response']['example2_erroneous'] + '\\n')\n",
    "        f.write('Ex2_correct: ' +r['chatgpt_response']['example2_correct'] + '\\n')\n",
    "        f.write('Ex3_error: ' +r['chatgpt_response']['example3_erroneous'] + '\\n')\n",
    "        f.write('Ex3_correct: ' +r['chatgpt_response']['example3_correct'] + '\\n')\n",
    "\n",
    "\n",
    "        f.write('\\n' + '-' * 80 + '\\n')"
   ]
  },
  {
   "cell_type": "code",
   "execution_count": 32,
   "metadata": {},
   "outputs": [
    {
     "data": {
      "text/plain": [
       "dict"
      ]
     },
     "execution_count": 32,
     "metadata": {},
     "output_type": "execute_result"
    }
   ],
   "source": [
    "type(df['chatgpt_response'][0])"
   ]
  },
  {
   "cell_type": "code",
   "execution_count": 33,
   "metadata": {},
   "outputs": [],
   "source": []
  },
  {
   "cell_type": "code",
   "execution_count": 41,
   "metadata": {},
   "outputs": [],
   "source": [
    "################# CLEANING DATA ####################\n",
    "df  = df.dropna()\n",
    "keys = ['explanation', 'example1_erroneous', 'example1_correct', 'example2_erroneous', 'example2_correct', 'example3_erroneous', 'example3_correct']\n",
    "cnt = 0\n",
    "bad_format = 0\n",
    "bad = []\n",
    "drop = []\n",
    "replace = []\n",
    "for i,r in df.iterrows():\n",
    "    if isinstance(r['chatgpt_response'],dict):\n",
    "        if list(r['chatgpt_response'].keys()) != keys:\n",
    "            cnt += 1\n",
    "            bad.append(r['chatgpt_response'])\n",
    "            replace.append(i)\n",
    "    else:\n",
    "        print(r)\n",
    "        bad_format += 1\n",
    "    if len(list(r['chatgpt_response'].keys())) != 7:\n",
    "        print(r['chatgpt_response'].keys())\n",
    "        bad_format += 1\n",
    "        drop.append(i)\n",
    "        \n",
    "df = df.drop(drop)\n",
    "for i in replace:\n",
    "    cnt = 0\n",
    "    new_dict = {}\n",
    "    for k,v in df.at[i,'chatgpt_response'].items():\n",
    "        new_dict[keys[cnt]] = v\n",
    "        cnt += 1\n",
    "    df.at[i,'chatgpt_response'] = new_dict\n",
    "\n",
    "df.to_json('gpt3.5_generated_training_filtered.json',orient='records')\n"
   ]
  },
  {
   "cell_type": "code",
   "execution_count": 42,
   "metadata": {},
   "outputs": [
    {
     "data": {
      "text/plain": [
       "(0, 0)"
      ]
     },
     "execution_count": 42,
     "metadata": {},
     "output_type": "execute_result"
    }
   ],
   "source": [
    "bad_format,cnt"
   ]
  },
  {
   "cell_type": "code",
   "execution_count": 40,
   "metadata": {},
   "outputs": [],
   "source": []
  },
  {
   "cell_type": "code",
   "execution_count": 43,
   "metadata": {},
   "outputs": [
    {
     "data": {
      "text/plain": [
       "15183"
      ]
     },
     "execution_count": 43,
     "metadata": {},
     "output_type": "execute_result"
    }
   ],
   "source": [
    "len(df)"
   ]
  },
  {
   "cell_type": "code",
   "execution_count": 44,
   "metadata": {},
   "outputs": [],
   "source": []
  },
  {
   "cell_type": "code",
   "execution_count": null,
   "metadata": {},
   "outputs": [],
   "source": []
  }
 ],
 "metadata": {
  "kernelspec": {
   "display_name": "base",
   "language": "python",
   "name": "python3"
  },
  "language_info": {
   "codemirror_mode": {
    "name": "ipython",
    "version": 3
   },
   "file_extension": ".py",
   "mimetype": "text/x-python",
   "name": "python",
   "nbconvert_exporter": "python",
   "pygments_lexer": "ipython3",
   "version": "3.10.12"
  }
 },
 "nbformat": 4,
 "nbformat_minor": 2
}
